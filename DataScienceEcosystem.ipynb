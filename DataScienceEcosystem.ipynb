{
 "cells": [
  {
   "cell_type": "markdown",
   "id": "b7eb0907",
   "metadata": {},
   "source": [
    "# Data Science Tools and Ecosystem"
   ]
  },
  {
   "attachments": {},
   "cell_type": "markdown",
   "id": "f8465729",
   "metadata": {},
   "source": [
    "In this notebook, Data Science Tools and Ecosystem are summarized."
   ]
  },
  {
   "cell_type": "markdown",
   "id": "8764b17c",
   "metadata": {},
   "source": [
    "Some of the popular languages that Data Scientists use are:"
   ]
  },
  {
   "cell_type": "markdown",
   "id": "df84638f",
   "metadata": {},
   "source": [
    "1. PYTHON\n",
    "2. R\n",
    "3. SQL\n",
    "4. JAVA\n",
    "5. C++\n",
    "6. JULIA\n",
    "7. PHP\n",
    "8. GO\n",
    "9. RUBY\n",
    "10. VISUAL BASIC"
   ]
  },
  {
   "cell_type": "markdown",
   "id": "8f8e13ad",
   "metadata": {},
   "source": [
    "Some of the commonly used libraries used by Data Scientists include:"
   ]
  },
  {
   "cell_type": "markdown",
   "id": "fb69540a",
   "metadata": {},
   "source": [
    "1. Pandas\n",
    "2. numpy\n",
    "3. Matplotlib\n",
    "4. seaborn\n",
    "5. scikit-learn\n",
    "6. keras\n",
    "7. tensorflow\n",
    "8. pyTorch\n",
    "9. Apache Spark\n",
    "10. vegas"
   ]
  },
  {
   "cell_type": "markdown",
   "id": "60e8d7aa",
   "metadata": {},
   "source": [
    "| Data Science Tool |\n",
    "|------------------|\n",
    "| Jupyter notebook |\n",
    "| Rstudio |\n",
    "| Anaconda |\n",
    "| Spyder |\n",
    "| zeppelin |"
   ]
  },
  {
   "cell_type": "markdown",
   "id": "b080671e",
   "metadata": {},
   "source": [
    "### Below are a few examples of evaluating arithmetic expressions in Python"
   ]
  },
  {
   "cell_type": "code",
   "execution_count": 2,
   "id": "98681fa1",
   "metadata": {},
   "outputs": [
    {
     "data": {
      "text/plain": [
       "17"
      ]
     },
     "execution_count": 2,
     "metadata": {},
     "output_type": "execute_result"
    }
   ],
   "source": [
    "# This a simple arithmetic expression to mutiply then add integers\n",
    "(3*4)+5"
   ]
  },
  {
   "cell_type": "code",
   "execution_count": 3,
   "id": "7a2451c8",
   "metadata": {},
   "outputs": [
    {
     "data": {
      "text/plain": [
       "3.3333333333333335"
      ]
     },
     "execution_count": 3,
     "metadata": {},
     "output_type": "execute_result"
    }
   ],
   "source": [
    "# This will convert 200 minutes to hours by diving by 60.\n",
    "200/60"
   ]
  },
  {
   "cell_type": "markdown",
   "id": "b884a5d9",
   "metadata": {},
   "source": [
    "#### Objectives:\n",
    "\n",
    "- Introduction\n",
    "- List of popular languages used in Data Science\n",
    "- List of common libraries used in Data Science\n",
    "- Examples of evaluating arithmetic expressions in Python"
   ]
  },
  {
   "cell_type": "markdown",
   "id": "c5d29898",
   "metadata": {},
   "source": [
    "## Author \n",
    "Amey R.K"
   ]
  }
 ],
 "metadata": {
  "kernelspec": {
   "display_name": "Python 3 (ipykernel)",
   "language": "python",
   "name": "python3"
  },
  "language_info": {
   "codemirror_mode": {
    "name": "ipython",
    "version": 3
   },
   "file_extension": ".py",
   "mimetype": "text/x-python",
   "name": "python",
   "nbconvert_exporter": "python",
   "pygments_lexer": "ipython3",
   "version": "3.10.9"
  }
 },
 "nbformat": 4,
 "nbformat_minor": 5
}
